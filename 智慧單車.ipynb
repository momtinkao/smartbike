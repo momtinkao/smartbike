{
 "cells": [
  {
   "cell_type": "code",
   "execution_count": 17,
   "metadata": {},
   "outputs": [
    {
     "name": "stdout",
     "output_type": "stream",
     "text": [
      " * Serving Flask app \"__main__\" (lazy loading)\n",
      " * Environment: production\n",
      "   WARNING: This is a development server. Do not use it in a production deployment.\n",
      "   Use a production WSGI server instead.\n",
      " * Debug mode: off\n"
     ]
    },
    {
     "name": "stderr",
     "output_type": "stream",
     "text": [
      " * Running on http://127.0.0.1:5000/ (Press CTRL+C to quit)\n",
      "[2022-01-10 23:07:12,567] ERROR in app: Exception on /callback [POST]\n",
      "Traceback (most recent call last):\n",
      "  File \"C:\\Users\\momti\\Anaconda3\\lib\\site-packages\\flask\\app.py\", line 2446, in wsgi_app\n",
      "    response = self.full_dispatch_request()\n",
      "  File \"C:\\Users\\momti\\Anaconda3\\lib\\site-packages\\flask\\app.py\", line 1951, in full_dispatch_request\n",
      "    rv = self.handle_user_exception(e)\n",
      "  File \"C:\\Users\\momti\\Anaconda3\\lib\\site-packages\\flask\\app.py\", line 1820, in handle_user_exception\n",
      "    reraise(exc_type, exc_value, tb)\n",
      "  File \"C:\\Users\\momti\\Anaconda3\\lib\\site-packages\\flask\\_compat.py\", line 39, in reraise\n",
      "    raise value\n",
      "  File \"C:\\Users\\momti\\Anaconda3\\lib\\site-packages\\flask\\app.py\", line 1949, in full_dispatch_request\n",
      "    rv = self.dispatch_request()\n",
      "  File \"C:\\Users\\momti\\Anaconda3\\lib\\site-packages\\flask\\app.py\", line 1935, in dispatch_request\n",
      "    return self.view_functions[rule.endpoint](**req.view_args)\n",
      "  File \"<ipython-input-17-5d934212d988>\", line 71, in callback\n",
      "    if(d['feeds'][1]['field3'] == 0):\n",
      "UnboundLocalError: local variable 'd' referenced before assignment\n",
      "127.0.0.1 - - [10/Jan/2022 23:07:12] \"\u001b[1m\u001b[35mPOST /callback HTTP/1.1\u001b[0m\" 500 -\n"
     ]
    }
   ],
   "source": [
    "from __future__ import unicode_literals\n",
    "import os\n",
    "from flask import Flask, request, abort\n",
    "from linebot import LineBotApi, WebhookHandler,WebhookParser\n",
    "from linebot.exceptions import InvalidSignatureError\n",
    "from linebot.models import (\n",
    "    MessageEvent, \n",
    "    TextMessage, \n",
    "    TextSendMessage,\n",
    "    ImageMessage,\n",
    "    ImageSendMessage,\n",
    "    TemplateSendMessage,\n",
    "    ButtonsTemplate,\n",
    "    MessageTemplateAction,\n",
    "    PostbackEvent,\n",
    "    PostbackTemplateAction\n",
    ")\n",
    "\n",
    "import configparser\n",
    "\n",
    "import random\n",
    "\n",
    "flag = 0\n",
    "score = 0\n",
    "time = 0\n",
    "app = Flask(__name__)\n",
    "\n",
    "# LINE 聊天機器人的基本資料\n",
    "config = configparser.ConfigParser()\n",
    "config.read('config.ini')\n",
    "\n",
    "line_bot_api = LineBotApi(config.get('line-bot', 'channel_access_token'))\n",
    "handler = WebhookHandler(config.get('line-bot', 'channel_secret'))\n",
    "parser = WebhookParser(config.get('line-bot', 'channel_secret'))\n",
    "\n",
    "\n",
    "\n",
    "\n",
    "# 接收 LINE 的資訊\n",
    "@app.route(\"/callback\", methods=['POST'])\n",
    "def callback():\n",
    "    global flag\n",
    "    global score\n",
    "    global time\n",
    "    signature = request.headers['X-Line-Signature']\n",
    "\n",
    "    body = request.get_data(as_text=True)\n",
    "    app.logger.info(\"Request body: \" + body)\n",
    "    \n",
    "    try:\n",
    "        events = parser.parse(body, signature)  # 傳入的事件\n",
    "        \n",
    "    except InvalidSignatureError:\n",
    "        abort(400)\n",
    "    for event in events:\n",
    "        uurl = \"http://api.thingspeak.com/update?api_key=GGFTTH1UFCNYT3HU\"\n",
    "        if isinstance(event, MessageEvent):\n",
    "            if(event.message.text == \"腳踏車位置\"):\n",
    "                r=requests.get(url)\n",
    "                d = r.json()\n",
    "                location_message = LocationSendMessage(\n",
    "                    title='離你最近的腳車',\n",
    "                    latitude=float(d['feeds'][1]['field1']),\n",
    "                    longitude=float(d['feeds'][1]['field2'])\n",
    "                )\n",
    "                line_bot_api.reply_message(\n",
    "                    event.reply_token,\n",
    "                    location_message\n",
    "                )\n",
    "            elif(event.message.text == \"解鎖\"):\n",
    "                if(d['feeds'][1]['field3'] == 0):\n",
    "                    uurl = uurl + \"&amp;field3=1\"\n",
    "                    line_bot_api.reply_message(\n",
    "                        event.reply_token,\n",
    "                        TextSendMessage(text=\"解鎖成功\")\n",
    "                    )\n",
    "                \n",
    "                elif(d['feeds'][1]['field3'] == 1):\n",
    "                    line_bot_api.reply_message(\n",
    "                        event.reply_token,\n",
    "                        TextSendMessage(text=\"已有人租借\")\n",
    "                    )\n",
    "            elif(event.message.text == \"還車\"):\n",
    "                uurl = uurl + \"&amp;field3=0\"\n",
    "                line_bot_api.reply_message(\n",
    "                    event.reply_token,\n",
    "                    TextSendMessage(text=\"還車成功\")\n",
    "                )\n",
    "        return 'OK'\n",
    "\n",
    "if __name__ == \"__main__\":\n",
    "    app.run()\n",
    "                \n"
   ]
  },
  {
   "cell_type": "code",
   "execution_count": 6,
   "metadata": {},
   "outputs": [],
   "source": [
    "url= 'https://api.thingspeak.com/channels/1620834/feeds.json?api_key=NCFYKMBO44O15L9Y&results=2'"
   ]
  },
  {
   "cell_type": "code",
   "execution_count": 1,
   "metadata": {},
   "outputs": [
    {
     "name": "stdout",
     "output_type": "stream",
     "text": [
      " * Serving Flask app \"__main__\" (lazy loading)\n",
      " * Environment: production\n",
      "   WARNING: This is a development server. Do not use it in a production deployment.\n",
      "   Use a production WSGI server instead.\n",
      " * Debug mode: off\n"
     ]
    },
    {
     "name": "stderr",
     "output_type": "stream",
     "text": [
      " * Running on http://127.0.0.1:5000/ (Press CTRL+C to quit)\n",
      "127.0.0.1 - - [11/Jan/2022 02:26:44] \"\u001b[37mPOST /callback HTTP/1.1\u001b[0m\" 200 -\n",
      "127.0.0.1 - - [11/Jan/2022 02:27:05] \"\u001b[37mPOST /callback HTTP/1.1\u001b[0m\" 200 -\n",
      "127.0.0.1 - - [11/Jan/2022 02:33:18] \"\u001b[37mPOST /callback HTTP/1.1\u001b[0m\" 200 -\n",
      "127.0.0.1 - - [11/Jan/2022 02:33:58] \"\u001b[37mPOST /callback HTTP/1.1\u001b[0m\" 200 -\n"
     ]
    }
   ],
   "source": [
    "from __future__ import unicode_literals\n",
    "import os\n",
    "from flask import Flask, request, abort\n",
    "from linebot import LineBotApi, WebhookHandler,WebhookParser\n",
    "from linebot.exceptions import InvalidSignatureError\n",
    "from linebot.models import (\n",
    "    MessageEvent, \n",
    "    TextMessage, \n",
    "    TextSendMessage,\n",
    "    ImageMessage,\n",
    "    ImageSendMessage,\n",
    "    TemplateSendMessage,\n",
    "    ButtonsTemplate,\n",
    "    MessageTemplateAction,\n",
    "    PostbackEvent,\n",
    "    PostbackTemplateAction,\n",
    "    LocationSendMessage\n",
    ")\n",
    "\n",
    "import configparser\n",
    "import requests\n",
    "import random\n",
    "\n",
    "flag = 0\n",
    "score = 0\n",
    "time = 0\n",
    "password = [\"5\",\"2\",\"0\",\"9\"]\n",
    "app = Flask(__name__)\n",
    "\n",
    "# LINE 聊天機器人的基本資料\n",
    "config = configparser.ConfigParser()\n",
    "config.read('config.ini')\n",
    "\n",
    "line_bot_api = LineBotApi(config.get('line-bot', 'channel_access_token'))\n",
    "handler = WebhookHandler(config.get('line-bot', 'channel_secret'))\n",
    "parser = WebhookParser(config.get('line-bot', 'channel_secret'))\n",
    "\n",
    "\n",
    "# 接收 LINE 的資訊\n",
    "@app.route(\"/callback\", methods=['POST'])\n",
    "def callback():\n",
    "    global flag\n",
    "    global score\n",
    "    global time\n",
    "    signature = request.headers['X-Line-Signature']\n",
    "\n",
    "    body = request.get_data(as_text=True)\n",
    "    app.logger.info(\"Request body: \" + body)\n",
    "    \n",
    "    try:\n",
    "        events = parser.parse(body, signature)  # 傳入的事件\n",
    "        \n",
    "    except InvalidSignatureError:\n",
    "        abort(400)\n",
    "    for event in events:\n",
    "        url= 'https://api.thingspeak.com/channels/1620834/feeds.json?api_key=NCFYKMBO44O15L9Y&results=2'\n",
    "        laturl = 'https://api.thingspeak.com/channels/1620834/fields/1.json?api_key=NCFYKMBO44O15L9Y&results=2'\n",
    "        logurl = 'https://api.thingspeak.com/channels/1620834/fields/2.json?api_key=NCFYKMBO44O15L9Y&results=2'\n",
    "        lckurl = 'https://api.thingspeak.com/channels/1620834/fields/3.json?api_key=NCFYKMBO44O15L9Y&results=2'\n",
    "        uurl = \"http://api.thingspeak.com/update?api_key=GGFTTH1UFCNYT3HU\"\n",
    "        if isinstance(event, MessageEvent):\n",
    "            r=requests.get(laturl)\n",
    "            d = r.json()\n",
    "            lat = float(d['feeds'][-1]['field1'])\n",
    "            r=requests.get(logurl)\n",
    "            d = r.json()\n",
    "            log = float(d['feeds'][-1]['field2'])\n",
    "            if(event.message.text == \"腳踏車位置\"):\n",
    "                location_message = LocationSendMessage(\n",
    "                    title='離你最近的腳車',\n",
    "                    address='位置',\n",
    "                    latitude=lat,\n",
    "                    longitude=log\n",
    "                )\n",
    "                line_bot_api.reply_message(\n",
    "                    event.reply_token,\n",
    "                    location_message\n",
    "                )\n",
    "            elif(event.message.text == \"解鎖\"):\n",
    "                r=requests.get(lckurl)\n",
    "                d = r.json()\n",
    "                if(d['feeds'][-1]['field3'] == \"0\"):\n",
    "                    uurl = uurl + \"&amp;field1=\" + str(lat) + \"&amp;field2=\" + str(log) + \"&amp;field3=1\"\n",
    "                    requests.post(uurl)\n",
    "                    line_bot_api.reply_message(\n",
    "                        event.reply_token,\n",
    "                        TextSendMessage(text=\"解鎖成功\")\n",
    "                    )\n",
    "                \n",
    "                elif(d['feeds'][-1]['field3'] == \"1\"):\n",
    "                    line_bot_api.reply_message(\n",
    "                        event.reply_token,\n",
    "                        TextSendMessage(text=\"已有人租借\")\n",
    "                    )\n",
    "            elif(event.message.text == \"還車\"):\n",
    "                uurl = uurl + \"&amp;field1=\" + str(lat) + \"&amp;field2=\" + str(log) + \"&amp;field3=0\"\n",
    "                requests.post(uurl)\n",
    "                line_bot_api.reply_message(\n",
    "                    event.reply_token,\n",
    "                    TextSendMessage(text=\"還車成功\")\n",
    "                )\n",
    "    return 'OK'\n",
    "\n",
    "if __name__ == \"__main__\":\n",
    "    app.run()\n"
   ]
  },
  {
   "cell_type": "code",
   "execution_count": 18,
   "metadata": {},
   "outputs": [
    {
     "name": "stdout",
     "output_type": "stream",
     "text": [
      "Requirement already satisfied: requests in c:\\users\\momti\\anaconda3\\lib\\site-packages (2.22.0)\n",
      "Requirement already satisfied: urllib3!=1.25.0,!=1.25.1,<1.26,>=1.21.1 in c:\\users\\momti\\anaconda3\\lib\\site-packages (from requests) (1.24.2)\n",
      "Requirement already satisfied: chardet<3.1.0,>=3.0.2 in c:\\users\\momti\\anaconda3\\lib\\site-packages (from requests) (3.0.4)\n",
      "Requirement already satisfied: idna<2.9,>=2.5 in c:\\users\\momti\\anaconda3\\lib\\site-packages (from requests) (2.8)\n",
      "Requirement already satisfied: certifi>=2017.4.17 in c:\\users\\momti\\anaconda3\\lib\\site-packages (from requests) (2019.9.11)\n",
      "Note: you may need to restart the kernel to use updated packages.\n"
     ]
    }
   ],
   "source": [
    "pip install requests"
   ]
  },
  {
   "cell_type": "code",
   "execution_count": 46,
   "metadata": {},
   "outputs": [
    {
     "data": {
      "text/plain": [
       "<Response [200]>"
      ]
     },
     "execution_count": 46,
     "metadata": {},
     "output_type": "execute_result"
    }
   ],
   "source": [
    "requests.post(\"http://api.thingspeak.com/update?api_key=GGFTTH1UFCNYT3HU&field1=23.95&field2=121.58&field3=0\")"
   ]
  },
  {
   "cell_type": "code",
   "execution_count": 45,
   "metadata": {},
   "outputs": [
    {
     "name": "stdout",
     "output_type": "stream",
     "text": [
      "{'channel': {'id': 1620834, 'name': 'GPS', 'latitude': '0.0', 'longitude': '0.0', 'field1': 'lat', 'field2': 'lng', 'field3': 'lock', 'created_at': '2021-12-29T11:25:29Z', 'updated_at': '2022-01-10T14:08:29Z', 'last_entry_id': 4}, 'feeds': [{'created_at': '2022-01-10T15:48:10Z', 'entry_id': 3, 'field1': '23.95', 'field2': '121.58', 'field3': None}, {'created_at': '2022-01-10T15:59:01Z', 'entry_id': 4, 'field1': None, 'field2': None, 'field3': '0'}]}\n"
     ]
    }
   ],
   "source": [
    "r=requests.get('https://api.thingspeak.com/channels/1620834/feeds.json?api_key=NCFYKMBO44O15L9Y&results=2')\n",
    "d = r.json()\n",
    "print(d)"
   ]
  },
  {
   "cell_type": "code",
   "execution_count": null,
   "metadata": {},
   "outputs": [],
   "source": []
  }
 ],
 "metadata": {
  "kernelspec": {
   "display_name": "Python 3",
   "language": "python",
   "name": "python3"
  },
  "language_info": {
   "codemirror_mode": {
    "name": "ipython",
    "version": 3
   },
   "file_extension": ".py",
   "mimetype": "text/x-python",
   "name": "python",
   "nbconvert_exporter": "python",
   "pygments_lexer": "ipython3",
   "version": "3.7.4"
  }
 },
 "nbformat": 4,
 "nbformat_minor": 2
}
